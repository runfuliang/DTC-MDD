{
 "cells": [
  {
   "cell_type": "code",
   "execution_count": null,
   "metadata": {
    "vscode": {
     "languageId": "plaintext"
    }
   },
   "outputs": [],
   "source": [
    "def process(city):\n",
    "    data = pd.read_excel('{} Walk score.xlsx'.format(city), engine='openpyxl')\n",
    "    features_columns = [col for col in data.columns if col not in ['STREET_ID', 'WS']]\n",
    "    min_max_scaler = preprocessing.MinMaxScaler(feature_range=(0, 100))\n",
    "    min_max_scaler = min_max_scaler.fit(data[features_columns])\n",
    "    data_scaler = min_max_scaler.transform(data[features_columns])\n",
    "    data_scaler = pd.DataFrame(data_scaler)\n",
    "    data_scaler.columns = features_columns\n",
    "    data_scaler['WS'] = data['WS']\n",
    "    data_scaler=data_scaler.T\n",
    "    return data_scaler"
   ]
  },
  {
   "cell_type": "code",
   "execution_count": null,
   "metadata": {
    "vscode": {
     "languageId": "plaintext"
    }
   },
   "outputs": [],
   "source": [
    "def encrypt_all_workers_data(workers, g, h, n, K):\n",
    "    encrypted_workers = np.zeros_like(workers, dtype=object)\n",
    "\n",
    "    for i in range(workers.shape[1]):\n",
    "        for j in range(workers.shape[0]):\n",
    "            r = randint(1, n-1) \n",
    "            encrypted_workers[j, i] = encryption(workers[j, i], r, g, h, n, K)\n",
    "\n",
    "    return encrypted_workers"
   ]
  },
  {
   "cell_type": "code",
   "execution_count": null,
   "metadata": {
    "vscode": {
     "languageId": "plaintext"
    }
   },
   "outputs": [],
   "source": [
    "def encrypt_all_users_data(users, g, h, n, K):\n",
    "    encrypted_users = np.zeros_like(users)\n",
    "    encrypted_users[0, :] = users[0, :]  # User IDs are not encrypted\n",
    "\n",
    "    for i in range(users.shape[1]):\n",
    "        r = np.random.randint(1, n - 1)\n",
    "        for j in range(1, users.shape[0]):\n",
    "            encrypted_users[j, i] = encryption(users[j, i], r, g, h, n, K)\n",
    "\n",
    "    return encrypted_users"
   ]
  },
  {
   "cell_type": "code",
   "execution_count": null,
   "metadata": {
    "vscode": {
     "languageId": "plaintext"
    }
   },
   "outputs": [],
   "source": [
    "def calculate_all_ps_scores(workers):\n",
    "    ps_scores = np.zeros(workers.shape[1])\n",
    "    for i in range(workers.shape[1]):\n",
    "        worker_i_data = workers[6:10, i]  \n",
    "        workers_data = [np.column_stack((workers[j], workers[j+1])) for j in range(6, 10, 2)]\n",
    "        ps_scores[i] = calculate_ps_score(worker_i_data, workers_data)\n",
    "    workers[1] = ps_scores\n",
    "    return workers"
   ]
  },
  {
   "cell_type": "code",
   "execution_count": null,
   "metadata": {
    "vscode": {
     "languageId": "plaintext"
    }
   },
   "outputs": [],
   "source": [
    "def evaluate_worker_trust(workers):\n",
    "    trusted_workers = []\n",
    "    untrusted_workers = []\n",
    "    \n",
    "    for i in range(workers.shape[1]):\n",
    "        worker_data = workers[6:10, i]\n",
    "        threshold_values = np.zeros(4)\n",
    "        if any((worker_data == x).all() for x in trusted_workers):\n",
    "            continue\n",
    "        \n",
    "        for j in range(4):\n",
    "            if len(trusted_workers) > 1:\n",
    "                threshold_values[j] = np.mean([trusted_worker[j] for trusted_worker in trusted_workers if trusted_worker[j] != np.min(trusted_workers) and trusted_worker[j] != np.max(trusted_workers)])\n",
    "            else:\n",
    "                threshold_values[j] = worker_data[j]\n",
    "        \n",
    "        d = np.mean(np.abs(worker_data - threshold_values))\n",
    "        level_num = 9\n",
    "        \n",
    "        if d <= 10:\n",
    "            workers[2, i] = 1\n",
    "        elif 11 <= d <= 5 * level_num:\n",
    "            workers[2, i] = 0.5 * math.ceil(d / 5)\n",
    "        else:\n",
    "            workers[2, i] = 0.5 * level_num + 0.5\n",
    "\n",
    "        if workers[2, i] <= 3:\n",
    "            trusted_workers.append(worker_data)\n",
    "        else:\n",
    "            untrusted_workers.append(worker_data)\n",
    "\n",
    "    return workers"
   ]
  },
  {
   "cell_type": "code",
   "execution_count": null,
   "metadata": {
    "vscode": {
     "languageId": "plaintext"
    }
   },
   "outputs": [],
   "source": [
    "def evaluate_user_trust(users):\n",
    "    trusted_users = []\n",
    "    untrusted_users = []\n",
    "        \n",
    "    for i in range(users.shape[1]):\n",
    "        user_data = users[2:6, i]\n",
    "        threshold_values = np.zeros(4)\n",
    "        \n",
    "        if any((user_data == x).all() for x in trusted_users):\n",
    "            continue\n",
    "        \n",
    "        for j in range(4):\n",
    "            if len(trusted_users) > 1:\n",
    "                threshold_values[j] = np.mean([trusted_user[j] for trusted_user in trusted_users if trusted_user[j] != np.min(trusted_users) and trusted_user[j] != np.max(trusted_users)])\n",
    "            else:\n",
    "                threshold_values[j] = user_data[j]\n",
    "        \n",
    "        d = np.mean(np.abs(user_data - threshold_values))\n",
    "        level_num = 9\n",
    "        \n",
    "        if d <= 10:\n",
    "            users[1, i] = 1\n",
    "        elif 11 <= d <= 5 * level_num:\n",
    "            users[1, i] = 0.5 * math.ceil(d / 5)\n",
    "        else:\n",
    "            users[1, i] = 0.5 * level_num + 0.5\n",
    "\n",
    "        if users[1, i] <= 3:\n",
    "            trusted_users.append(user_data)\n",
    "        else:\n",
    "            untrusted_users.append(user_data)\n",
    "\n",
    "    return users"
   ]
  },
  {
   "cell_type": "code",
   "execution_count": null,
   "metadata": {
    "vscode": {
     "languageId": "plaintext"
    }
   },
   "outputs": [],
   "source": [
    "def evaluate_users(users, workers, skyline):\n",
    "    for i in range(skyline.shape[1]):\n",
    "        t = np.where(workers[0, :] == skyline[0, i])[0][0]\n",
    "\n",
    "        if workers[2, t] <= 3:\n",
    "            if np.mean(users[2:6, i]) <= 70:\n",
    "                users[1, i] += 0.5\n",
    "        else:\n",
    "            if np.mean(users[2:6, i]) > 70:\n",
    "                users[1, i] += 0.5\n",
    "\n",
    "    return users"
   ]
  },
  {
   "cell_type": "code",
   "execution_count": null,
   "metadata": {
    "vscode": {
     "languageId": "plaintext"
    }
   },
   "outputs": [],
   "source": [
    "def select_skyline_workers(candidate_workers, n_skyline, t1, t2, t3, t4):\n",
    "    num_workers = candidate_workers.shape[1]\n",
    "    skyline_indices = []  \n",
    "    ps_min = 0 \n",
    "    \n",
    "    for i in range(num_workers):  \n",
    "        worker = candidate_workers[:, i]  \n",
    "        if worker[2] <= t1 and worker[5] <= t2 and worker[3] >= t3 and worker[4] >= t4:  \n",
    "            if len(skyline_indices) == 0:  \n",
    "                skyline_indices.append(i)\n",
    "                ps_min = worker[1]  \n",
    "            elif worker[1] > ps_min and len(skyline_indices) < n_skyline:  \n",
    "                skyline_indices.append(i)\n",
    "                ps_min = min(candidate_workers[1, skyline_indices])  \n",
    "\n",
    "  \n",
    "    skyline_indices = np.array(skyline_indices)\n",
    "    sorted_indices = np.argsort(candidate_workers[1, skyline_indices])[::-1]\n",
    "    sorted_indices = sorted_indices[:n_skyline]\n",
    "\n",
    "    return candidate_workers[:, skyline_indices[sorted_indices]]"
   ]
  }
 ],
 "metadata": {
  "kernelspec": {
   "display_name": "base",
   "language": "python",
   "name": "python3"
  },
  "language_info": {
   "codemirror_mode": {
    "name": "ipython",
    "version": 3
   },
   "file_extension": ".py",
   "mimetype": "text/x-python",
   "name": "python",
   "nbconvert_exporter": "python",
   "pygments_lexer": "ipython3",
   "version": "3.9.12"
  },
  "orig_nbformat": 4
 },
 "nbformat": 4,
 "nbformat_minor": 2
}
